{
  "nbformat": 4,
  "nbformat_minor": 0,
  "metadata": {
    "colab": {
      "provenance": [],
      "authorship_tag": "ABX9TyP7Ic3L4girS8+Ar+w9Vyri",
      "include_colab_link": true
    },
    "kernelspec": {
      "name": "python3",
      "display_name": "Python 3"
    },
    "language_info": {
      "name": "python"
    }
  },
  "cells": [
    {
      "cell_type": "markdown",
      "metadata": {
        "id": "view-in-github",
        "colab_type": "text"
      },
      "source": [
        "<a href=\"https://colab.research.google.com/github/andresit02/EXAMEN---METODOS-NUMERICOS/blob/main/Examen_01_P3.ipynb\" target=\"_parent\"><img src=\"https://colab.research.google.com/assets/colab-badge.svg\" alt=\"Open In Colab\"/></a>"
      ]
    },
    {
      "cell_type": "markdown",
      "source": [
        "#**EXAMEN 01 - MÉTODOS NUMÉRICOS**\n",
        "\n",
        "**Realizado por: Andres Fernandez**"
      ],
      "metadata": {
        "id": "qvHUz5LHks7-"
      }
    },
    {
      "cell_type": "markdown",
      "source": [
        "##**Método de la secante**"
      ],
      "metadata": {
        "id": "fB05TuQikCyP"
      }
    },
    {
      "cell_type": "code",
      "source": [
        "def secant_method(f, x0, x1, tol=1e-6, max_iter=100):\n",
        "    \"\"\"\n",
        "    Secant method for finding the root of a function.\n",
        "\n",
        "    # Parameters\n",
        "    * ``f``: The function for which to find the root.\n",
        "    * ``x0``, x1: Initial guesses for the root.\n",
        "    * ``tol``: Tolerance for convergence (default: 1e-6).\n",
        "    * ``max_iter``: Maximum number of iterations (default: 100).\n",
        "\n",
        "    # Returns\n",
        "    * ``x_curr`` The approximate root of the function.\n",
        "    * ``iter_count`` The number of iterations taken.\n",
        "    \"\"\"\n",
        "    x_prev = x0\n",
        "    x_curr = x1\n",
        "    iter_count = 0\n",
        "\n",
        "    while abs(f(x_curr)) > tol and iter_count < max_iter:\n",
        "        x_next = x_curr - f(x_curr) * (x_curr - x_prev) / (f(x_curr) - f(x_prev))\n",
        "        x_prev = x_curr\n",
        "        x_curr = x_next\n",
        "        iter_count += 1\n",
        "\n",
        "    return x_curr, iter_count\n"
      ],
      "metadata": {
        "id": "uUhgnNK-kIls"
      },
      "execution_count": null,
      "outputs": []
    },
    {
      "cell_type": "markdown",
      "source": [
        "**EJEMPLO 1**"
      ],
      "metadata": {
        "id": "MLH5mjPfkTnq"
      }
    },
    {
      "cell_type": "code",
      "source": [
        "i = 0\n",
        "\n",
        "\n",
        "def func(x):\n",
        "    global i\n",
        "    i += 1\n",
        "    y = x**3 - 3 * x**2 + x - 1\n",
        "    print(f\"Llamada i={i}\\t x={x:.5f}\\t y={y:.2f}\")\n",
        "    return y\n",
        "\n",
        "\n",
        "secant_method(func, x0=2, x1=3)"
      ],
      "metadata": {
        "colab": {
          "base_uri": "https://localhost:8080/"
        },
        "id": "BQYAO0llkVZz",
        "outputId": "fc964a73-0147-4ace-cf8d-f59d87d02a1f"
      },
      "execution_count": null,
      "outputs": [
        {
          "output_type": "stream",
          "name": "stdout",
          "text": [
            "Llamada i=1\t x=3.00000\t y=2.00\n",
            "Llamada i=2\t x=3.00000\t y=2.00\n",
            "Llamada i=3\t x=3.00000\t y=2.00\n",
            "Llamada i=4\t x=2.00000\t y=-3.00\n",
            "Llamada i=5\t x=2.60000\t y=-1.10\n",
            "Llamada i=6\t x=2.60000\t y=-1.10\n",
            "Llamada i=7\t x=2.60000\t y=-1.10\n",
            "Llamada i=8\t x=3.00000\t y=2.00\n",
            "Llamada i=9\t x=2.74227\t y=-0.20\n",
            "Llamada i=10\t x=2.74227\t y=-0.20\n",
            "Llamada i=11\t x=2.74227\t y=-0.20\n",
            "Llamada i=12\t x=2.60000\t y=-1.10\n",
            "Llamada i=13\t x=2.77296\t y=0.03\n",
            "Llamada i=14\t x=2.77296\t y=0.03\n",
            "Llamada i=15\t x=2.77296\t y=0.03\n",
            "Llamada i=16\t x=2.74227\t y=-0.20\n",
            "Llamada i=17\t x=2.76922\t y=-0.00\n",
            "Llamada i=18\t x=2.76922\t y=-0.00\n",
            "Llamada i=19\t x=2.76922\t y=-0.00\n",
            "Llamada i=20\t x=2.77296\t y=0.03\n",
            "Llamada i=21\t x=2.76929\t y=-0.00\n",
            "Llamada i=22\t x=2.76929\t y=-0.00\n",
            "Llamada i=23\t x=2.76929\t y=-0.00\n",
            "Llamada i=24\t x=2.76922\t y=-0.00\n",
            "Llamada i=25\t x=2.76929\t y=0.00\n"
          ]
        },
        {
          "output_type": "execute_result",
          "data": {
            "text/plain": [
              "(2.7692923542484045, 6)"
            ]
          },
          "metadata": {},
          "execution_count": 8
        }
      ]
    },
    {
      "cell_type": "markdown",
      "source": [
        "**EJEMPLO 2**"
      ],
      "metadata": {
        "id": "bI4Id79mkYLH"
      }
    },
    {
      "cell_type": "code",
      "source": [
        "i = 0\n",
        "import math\n",
        "\n",
        "\n",
        "def func(x):\n",
        "    global i\n",
        "    i += 1\n",
        "    y = math.sin(x) + 0.5\n",
        "    print(f\"Llamada i={i}\\t x={x:.5f}\\t y={y:.2f}\")\n",
        "    return y\n",
        "\n",
        "\n",
        "secant_method(func, x0=2, x1=3)"
      ],
      "metadata": {
        "colab": {
          "base_uri": "https://localhost:8080/"
        },
        "id": "-9YDV81JkaMK",
        "outputId": "163a9b40-ba2e-4ffc-c95a-3c2a1183b1f7"
      },
      "execution_count": null,
      "outputs": [
        {
          "output_type": "stream",
          "name": "stdout",
          "text": [
            "Llamada i=1\t x=3.00000\t y=0.64\n",
            "Llamada i=2\t x=3.00000\t y=0.64\n",
            "Llamada i=3\t x=3.00000\t y=0.64\n",
            "Llamada i=4\t x=2.00000\t y=1.41\n",
            "Llamada i=5\t x=3.83460\t y=-0.14\n",
            "Llamada i=6\t x=3.83460\t y=-0.14\n",
            "Llamada i=7\t x=3.83460\t y=-0.14\n",
            "Llamada i=8\t x=3.00000\t y=0.64\n",
            "Llamada i=9\t x=3.68602\t y=-0.02\n",
            "Llamada i=10\t x=3.68602\t y=-0.02\n",
            "Llamada i=11\t x=3.68602\t y=-0.02\n",
            "Llamada i=12\t x=3.83460\t y=-0.14\n",
            "Llamada i=13\t x=3.66399\t y=0.00\n",
            "Llamada i=14\t x=3.66399\t y=0.00\n",
            "Llamada i=15\t x=3.66399\t y=0.00\n",
            "Llamada i=16\t x=3.68602\t y=-0.02\n",
            "Llamada i=17\t x=3.66520\t y=-0.00\n",
            "Llamada i=18\t x=3.66520\t y=-0.00\n",
            "Llamada i=19\t x=3.66520\t y=-0.00\n",
            "Llamada i=20\t x=3.66399\t y=0.00\n",
            "Llamada i=21\t x=3.66519\t y=-0.00\n"
          ]
        },
        {
          "output_type": "execute_result",
          "data": {
            "text/plain": [
              "(3.66519143172732, 5)"
            ]
          },
          "metadata": {},
          "execution_count": 6
        }
      ]
    },
    {
      "cell_type": "markdown",
      "source": [
        "#**CORRECCIÓN DEL CÓDIGO**"
      ],
      "metadata": {
        "id": "wKJePPUk2bHd"
      }
    },
    {
      "cell_type": "markdown",
      "source": [
        "**CÓDIGO**"
      ],
      "metadata": {
        "id": "iLM7F6e07-S_"
      }
    },
    {
      "cell_type": "code",
      "source": [
        "def secant_method_optimized(f, x0, x1, tol=1e-6, max_iter=100):\n",
        "    \"\"\"\n",
        "    # Parameters\n",
        "    * ``f``: The function for which to find the root.\n",
        "    * ``x0``, x1: Initial guesses for the root.\n",
        "    * ``tol``: Tolerance for convergence (default: 1e-6).\n",
        "    * ``max_iter``: Maximum number of iterations (default: 100).\n",
        "\n",
        "    # Returns\n",
        "    * ``x_curr`` The approximate root of the function.\n",
        "    * ``iter_count`` The number of iterations taken.\n",
        "    \"\"\"\n",
        "    f_x0 = f(x0)\n",
        "    f_x1 = f(x1)\n",
        "    x_prev = x0\n",
        "    x_curr = x1\n",
        "    iter_count = 0\n",
        "\n",
        "    while abs(f_x1) > tol and iter_count < max_iter:\n",
        "        x_next = x_curr - f_x1 * (x_curr - x_prev) / (f_x1 - f_x0)\n",
        "        x_prev = x_curr\n",
        "        f_x0 = f_x1\n",
        "        x_curr = x_next\n",
        "        f_x1 = f(x_curr)\n",
        "        iter_count += 1\n",
        "\n",
        "    return x_curr, iter_count"
      ],
      "metadata": {
        "id": "EZPPe-x-2pzh"
      },
      "execution_count": 9,
      "outputs": []
    },
    {
      "cell_type": "markdown",
      "source": [
        "**EJEMPLO 1**"
      ],
      "metadata": {
        "id": "PEThhfbQ8Ej-"
      }
    },
    {
      "cell_type": "code",
      "source": [
        "i = 0\n",
        "\n",
        "\n",
        "def func(x):\n",
        "    global i\n",
        "    i += 1\n",
        "    y = x**3 - 3 * x**2 + x - 1\n",
        "    print(f\"Llamada i={i}\\t x={x:.5f}\\t y={y:.2f}\")\n",
        "    return y\n",
        "\n",
        "\n",
        "secant_method_optimized(func, x0=2, x1=3)"
      ],
      "metadata": {
        "colab": {
          "base_uri": "https://localhost:8080/"
        },
        "id": "snXXos9b3yEY",
        "outputId": "b349e58e-174a-4d8e-c4f0-a410e89c2abf"
      },
      "execution_count": 10,
      "outputs": [
        {
          "output_type": "stream",
          "name": "stdout",
          "text": [
            "Llamada i=1\t x=2.00000\t y=-3.00\n",
            "Llamada i=2\t x=3.00000\t y=2.00\n",
            "Llamada i=3\t x=2.60000\t y=-1.10\n",
            "Llamada i=4\t x=2.74227\t y=-0.20\n",
            "Llamada i=5\t x=2.77296\t y=0.03\n",
            "Llamada i=6\t x=2.76922\t y=-0.00\n",
            "Llamada i=7\t x=2.76929\t y=-0.00\n",
            "Llamada i=8\t x=2.76929\t y=0.00\n"
          ]
        },
        {
          "output_type": "execute_result",
          "data": {
            "text/plain": [
              "(2.7692923542484045, 6)"
            ]
          },
          "metadata": {},
          "execution_count": 10
        }
      ]
    },
    {
      "cell_type": "markdown",
      "source": [
        "**EJEMPLO 2**"
      ],
      "metadata": {
        "id": "fLpJVAM38G-V"
      }
    },
    {
      "cell_type": "code",
      "source": [
        "i = 0\n",
        "import math\n",
        "\n",
        "\n",
        "def func(x):\n",
        "    global i\n",
        "    i += 1\n",
        "    y = math.sin(x) + 0.5\n",
        "    print(f\"Llamada i={i}\\t x={x:.5f}\\t y={y:.2f}\")\n",
        "    return y\n",
        "\n",
        "\n",
        "secant_method_optimized(func, x0=2, x1=3)"
      ],
      "metadata": {
        "colab": {
          "base_uri": "https://localhost:8080/"
        },
        "id": "bWSSKX3D4aOz",
        "outputId": "b54662d7-b8a9-466e-e1c2-661260583965"
      },
      "execution_count": 14,
      "outputs": [
        {
          "output_type": "stream",
          "name": "stdout",
          "text": [
            "Llamada i=1\t x=2.00000\t y=1.41\n",
            "Llamada i=2\t x=3.00000\t y=0.64\n",
            "Llamada i=3\t x=3.83460\t y=-0.14\n",
            "Llamada i=4\t x=3.68602\t y=-0.02\n",
            "Llamada i=5\t x=3.66399\t y=0.00\n",
            "Llamada i=6\t x=3.66520\t y=-0.00\n",
            "Llamada i=7\t x=3.66519\t y=-0.00\n"
          ]
        },
        {
          "output_type": "execute_result",
          "data": {
            "text/plain": [
              "(3.66519143172732, 5)"
            ]
          },
          "metadata": {},
          "execution_count": 14
        }
      ]
    }
  ]
}